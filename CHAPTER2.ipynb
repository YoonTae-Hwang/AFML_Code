{
 "cells": [
  {
   "cell_type": "code",
   "execution_count": 3,
   "metadata": {},
   "outputs": [],
   "source": [
    "#import Standard lib\n",
    "from pathlib import PurePath, Path\n",
    "import sys\n",
    "import time\n",
    "from collections import OrderedDict as od\n",
    "import re\n",
    "import os\n",
    "import json\n",
    "\n",
    "#import python scientific\n",
    "import pandas as pd\n",
    "import numpy as np\n",
    "import scipy.stats as stats\n",
    "import statsmodels.api as sm\n",
    "from numba import jit\n",
    "import math\n",
    "import pymc3 as pm\n",
    "from theano import shared, theano as tt\n",
    "\n",
    "\n",
    "# import visual tools\n",
    "import matplotlib as mpl\n",
    "import matplotlib.pyplot as plt\n",
    "import matplotlib.gridspec as gridspec\n",
    "%matplotlib inline\n",
    "import seaborn as sns\n",
    "import missingno as msno #결측치\n",
    "\n",
    "plt.style.use('seaborn-talk')\n",
    "plt.style.use('bmh')\n",
    "\n",
    "# import util libs\n",
    "import pyarrow as pa\n",
    "import pyarrow.parquet as pq\n",
    "from tqdm import tqdm, tqdm_notebook\n",
    "import warnings\n",
    "warnings.filterwarnings(\"ignore\")\n",
    "\n",
    "#my lib\n",
    "from res import Analyze_bars, bar_function"
   ]
  },
  {
   "cell_type": "code",
   "execution_count": 7,
   "metadata": {},
   "outputs": [
    {
     "name": "stdout",
     "output_type": "stream",
     "text": [
      "                      price     bid     ask  size     v         dv\n",
      "dates                                                             \n",
      "2009-09-28 09:30:00   50.79   50.70   50.79   100   100    5079.00\n",
      "2009-09-28 09:30:00   50.71   50.70   50.79   638   638   32352.98\n",
      "2009-09-28 09:31:32   50.75   50.75   50.76   100   100    5075.00\n",
      "2009-09-28 09:31:33   50.75   50.72   50.75   100   100    5075.00\n",
      "2009-09-28 09:31:50   50.75   50.73   50.76   300   300   15225.00\n",
      "...                     ...     ...     ...   ...   ...        ...\n",
      "2020-10-08 16:55:08  117.02  117.02  117.50   100   100   11702.00\n",
      "2020-10-08 16:55:08  117.02  117.02  117.50  2428  2428  284124.56\n",
      "2020-10-08 18:30:00  116.77  114.87  118.10     0     0       0.00\n",
      "2020-10-08 19:53:14  117.50  115.06  117.50   100   100   11750.00\n",
      "2020-10-08 20:00:00  116.77  115.06  117.50     0     0       0.00\n",
      "\n",
      "[1958819 rows x 6 columns]\n"
     ]
    }
   ],
   "source": [
    "def read_kibot_ticks(fp):\n",
    "    # read tick data from http://www.kibot.com/support.aspx#data_format\n",
    "    cols = list(map(str.lower,['Date','Time','Price','Bid','Ask','Size']))\n",
    "    df = (pd.read_csv(fp, header=None)\n",
    "          .rename(columns=dict(zip(range(len(cols)),cols)))\n",
    "          .assign(dates=lambda df: (pd.to_datetime(df['date']+df['time'],\n",
    "                                                  format='%m/%d/%Y%H:%M:%S')))\n",
    "          .assign(v=lambda df: df['size']) # volume\n",
    "          .assign(dv=lambda df: df['price']*df['size']) # dollar volume\n",
    "          .drop(['date','time'],axis=1)\n",
    "          .set_index('dates')\n",
    "          .drop_duplicates())\n",
    "    return df\n",
    "    \n",
    "\n",
    "df = read_kibot_ticks('C:/AFML/utills/IVE_tickbidask.txt')\n",
    "print(df)"
   ]
  },
  {
   "cell_type": "code",
   "execution_count": null,
   "metadata": {},
   "outputs": [],
   "source": []
  }
 ],
 "metadata": {
  "kernelspec": {
   "display_name": "Python 3",
   "language": "python",
   "name": "python3"
  },
  "language_info": {
   "codemirror_mode": {
    "name": "ipython",
    "version": 3
   },
   "file_extension": ".py",
   "mimetype": "text/x-python",
   "name": "python",
   "nbconvert_exporter": "python",
   "pygments_lexer": "ipython3",
   "version": "3.8.5"
  }
 },
 "nbformat": 4,
 "nbformat_minor": 4
}
